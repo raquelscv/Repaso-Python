{
 "cells": [
  {
   "cell_type": "markdown",
   "metadata": {},
   "source": [
    "#### Ejercicio 1\n",
    "\n",
    "Devuelve el número de vocales en una cadena dada. Consideraremos `a, e, i, o, u` como vocales. \n",
    "\n",
    "Por ejemplo: \n",
    "\n",
    "```python\n",
    "print(get_count(\"Hola Buenos Dias\")) # devuelve 7 \n",
    "print(get_count(\"Python Mola\")) # devuelve 3\n",
    "print(get_count(\"REPASANDO EJERCICIOS\")) # devuelve 9\n",
    "```"
   ]
  },
  {
   "cell_type": "code",
   "execution_count": null,
   "metadata": {},
   "outputs": [],
   "source": [
    "def get_count(cadena):\n",
    "  vocales = \"aeiou\"\n",
    "  cuenta_vocales = 0 \n",
    "  cadena_minusculas = cadena.lower()\n",
    "  for letra in cadena_minusculas:\n",
    "    if letra in vocales:\n",
    "      cuenta_vocales += 1\n",
    "  return cuenta_vocales \n",
    "\n",
    "print(get_count(\"Hola Buenos Dias\"))\n",
    "print(get_count(\"Python Mola\"))\n",
    "print(get_count(\"REPASANDO EJERCICIOS\"))"
   ]
  },
  {
   "cell_type": "markdown",
   "metadata": {},
   "source": [
    "#### Ejercicio 2\n",
    "\n",
    "Eleva al cuadrado cada dígito de un número y unelos. Por ejemplo, si pasas el número 9119 a la función, obtendras 811181, porque \\(9^2\\) ￼ es 81 y ￼\\(1^2\\) es 1. (81-1-1-81). Otro ejemplo, un número de 765 debería devolver 493625 porque \\(7^2\\) ￼ es 49,  \\(6^2\\) ￼ es 36 y ￼\\(5^2\\)  es 25. (49-36-25)\n",
    "\n",
    "```python\n",
    "print(square_digits(123)) # devuelve 149\n",
    "print(square_digits(12345)) # devuelve 1491625\n",
    "print(square_digits(34)) # devuelve 916\n",
    "```\n"
   ]
  },
  {
   "cell_type": "code",
   "execution_count": null,
   "metadata": {},
   "outputs": [],
   "source": [
    "def square_digits(numero):\n",
    "  lista_vacia = []\n",
    "  cadena_num = str(numero)\n",
    "  for num in cadena_num:\n",
    "    cuadrado = int(num)**2\n",
    "    lista_vacia.append(str(cuadrado))\n",
    "  resultado = \"\".join(lista_vacia)\n",
    "  return resultado\n",
    "\n",
    "print(square_digits(123))\n",
    "print(square_digits(12345))\n",
    "print(square_digits(34))"
   ]
  },
  {
   "cell_type": "markdown",
   "metadata": {},
   "source": [
    "#### Ejercicio 3\n",
    "\n",
    "Escribe una función que reciba una cadena de texto compuesta por una o más palabras, y devuelva la misma cadena, pero con todas las palabras de cinco o más letras invertidas. \n",
    "\n",
    "```python\n",
    "print(spin_words(\"Hey fellow warriors\")) # Hey wollef sroirraw\n",
    "print(spin_words(\"This is a test\")) # This is a test\n",
    "print(spin_words(\"This is another test\")) # This is rehtona test\n",
    "```"
   ]
  },
  {
   "cell_type": "code",
   "execution_count": null,
   "metadata": {},
   "outputs": [],
   "source": [
    "def spin_words(texto):\n",
    "  texto_palabras = texto.split()\n",
    "  lista_vacia = []\n",
    "  for palabra in texto_palabras:\n",
    "    if len(palabra) < 5:\n",
    "      lista_vacia.append(palabra)\n",
    "    else:\n",
    "      lista_vacia.append(palabra[::-1])\n",
    "  texto_final = \" \".join(lista_vacia)\n",
    "  return texto_final\n",
    "\n",
    "print(spin_words(\"Hey fellow warriors\"))\n",
    "print(spin_words(\"This is a test\"))\n",
    "print(spin_words(\"This is another test\"))"
   ]
  },
  {
   "cell_type": "markdown",
   "metadata": {},
   "source": [
    "#### Ejercicio 4\n",
    "\n",
    "Probablemente conozcas el sistema de “me gusta” de Facebook y otras plataformas. Las personas pueden dar “me gusta” a publicaciones, imágenes u otros elementos. Tienes que crear el texto que se debe mostrar junto a dicho elemento. Crea una función que reciba una lista con los nombres de las personas que dieron “me gusta” a un elemento. La función debe devolver el texto mostrado según los ejemplos:\n",
    "\n",
    "```python\n",
    "print(likes([\"Peter\"])) # devuelve \"Peter likes this\"\n",
    "print(likes([\"Jacob\", \"Alex\"] )) # devuelve \"Jacob and Alex like this\"\n",
    "print(likes([\"Max\", \"John\", \"Mark\"])) # devuelve \"Max, John and Mark like this\"\n",
    "print(likes([\"Max\", \"John\", \"Mark\", \"Max\"])) # devuelve \"Max, John and 2 others like this\"\n",
    "```"
   ]
  },
  {
   "cell_type": "code",
   "execution_count": null,
   "metadata": {},
   "outputs": [],
   "source": [
    "def likes(lista):\n",
    "  if len(lista)==1:\n",
    "    return f\"{lista[0]} likes this\"\n",
    "  elif len(lista)==2:\n",
    "    return f\"{lista[0]} and {lista[1]} likes this\"\n",
    "  elif len(lista)==3:\n",
    "    return f\"{lista[0]}, {lista[1]} and {lista[2]} likes this\"\n",
    "  else:\n",
    "    cuenta = len(lista)-2\n",
    "    return f\"{lista[0]}, {lista[1]} and {cuenta} others likes this\"\n",
    "\n",
    "print(likes([\"Peter\"]))\n",
    "print(likes([\"Jacob\", \"Alex\"]))\n",
    "print(likes([\"Max\", \"John\", \"Mark\"]))\n",
    "print(likes([\"Max\", \"John\", \"Mark\", \"Max\"]))"
   ]
  },
  {
   "cell_type": "markdown",
   "metadata": {},
   "source": [
    "#### Ejercicio 5\n",
    "\n",
    "Crea una función que tome una lista de enteros no negativos y cadenas de texto, y devuelva una nueva lista con las cadenas filtradas (es decir, eliminadas).\n",
    "\n",
    "```python\n",
    "print(filter_list([1, 2, 'a', 'b'])) # devuelve [1, 2]\n",
    "print(filter_list([1, 'a', 'b', 0, 15])) # devuelve [1, 0, 15]\n",
    "print(filter_list([1, 2, 'aasf', '1', '123', 123])) # devuelve [1, 2, 123]\n",
    "```"
   ]
  },
  {
   "cell_type": "code",
   "execution_count": null,
   "metadata": {},
   "outputs": [],
   "source": [
    "def filter_list(lista_elementos):\n",
    "  lista_vacia = []\n",
    "  for elemento in lista_elementos:\n",
    "    if type(elemento) == int:\n",
    "      lista_vacia.append(elemento)\n",
    "  return lista_vacia   \n",
    "\n",
    "print(filter_list([1, 2, \"a\", \"b\"]))\n",
    "print(filter_list([1, \"a\", \"b\", 0, 15]))\n",
    "print(filter_list([1, 2, \"aasf\", \"1\", \"123\", 123]))"
   ]
  },
  {
   "cell_type": "markdown",
   "metadata": {},
   "source": [
    "#### Ejercicio 6\n",
    "\n",
    "Mueve la primera letra de cada palabra al final de la misma, luego agrega “ay” al final de la palabra. Deja los signos de puntuación sin cambios.\n",
    "\n",
    "```python\n",
    "print(pig_it('Pig latin is cool')) # devuelve \"igPay atinlay siay oolcay\"\n",
    "print(pig_it('This is my string')) # devuelve \"hisTay siay ymay tringsay\"\n",
    "```"
   ]
  },
  {
   "cell_type": "code",
   "execution_count": null,
   "metadata": {},
   "outputs": [],
   "source": [
    "def pig_it(frase):\n",
    "  lista = []\n",
    "  lista_final = []\n",
    "  frase_palabras = frase.split()\n",
    "  for palabra in frase_palabras:\n",
    "    for letra in palabra:\n",
    "      lista.append(letra)\n",
    "    lista.append(lista[0])\n",
    "    lista.append(\"a\")\n",
    "    lista.append(\"y\")\n",
    "    lista.remove(lista[0])\n",
    "    union = \"\".join(lista)\n",
    "    lista_final.append(union)\n",
    "    lista.clear()\n",
    "  resultado = \" \".join(lista_final)\n",
    "  return resultado\n",
    "\n",
    "print(pig_it(\"Pig latin is cool\"))\n",
    "print(pig_it(\"This is my string\"))"
   ]
  },
  {
   "cell_type": "markdown",
   "metadata": {},
   "source": [
    "### Ejercicio 7\n",
    "\n",
    "A Pete le gusta hornear pasteles. Tiene algunas recetas e ingredientes. Desafortunadamente, no es bueno con las matemáticas. ¿Puedes ayudarlo a averiguar cuántos pasteles puede hornear considerando sus recetas? Escribe una función que reciba la receta  y los ingredientes disponibles y devuelva el número máximo de pasteles que Pete puede hornear. Para simplificar, no hay unidades para las cantidades (por ejemplo, 1 libra de harina o 200 gramos de azúcar son simplemente 1 o 200). Los ingredientes que no están presentes en los objetos se pueden considerar como 0.\n",
    "\n",
    "```python\n",
    "recipe = {\"flour\": 500, \"sugar\": 200, \"eggs\": 1}\n",
    "available = {\"flour\": 1200, \"sugar\": 1200, \"eggs\": 5, \"milk\": 200}\n",
    "print(cakes(recipe, available)) # devuelve 2 bizcochos\n",
    "\n",
    "recipe = {\"apples\": 3, \"flour\": 300, \"sugar\": 150, \"milk\": 100, \"oil\": 100}\n",
    "available = {\"sugar\": 500, \"flour\": 2000, \"milk\": 2000}\n",
    "print(cakes(recipe, available)) # devuelve 0 bizcochos\n",
    "\n",
    "```"
   ]
  },
  {
   "cell_type": "code",
   "execution_count": null,
   "metadata": {},
   "outputs": [],
   "source": [
    "def cakes(recipe, available):\n",
    "  cantidades = []\n",
    "  for ingrediente in recipe:\n",
    "    if ingrediente not in available:\n",
    "      return f\"0 bizcochos\"\n",
    "    else:\n",
    "      cantidad = available[ingrediente]/recipe[ingrediente]\n",
    "      cantidades.append(cantidad) \n",
    "  return f\"{int(min(cantidades))} bizcochos\"\n",
    "\n",
    "recipe = {\"flour\": 500, \"sugar\": 200, \"eggs\": 1}\n",
    "available = {\"flour\": 1200, \"sugar\": 1200, \"eggs\": 5, \"milk\": 200}\n",
    "print(cakes(recipe, available))"
   ]
  },
  {
   "cell_type": "markdown",
   "metadata": {},
   "source": [
    "### Ejercicio 8\n",
    "\n",
    "Debes validar si una cadena de entrada del usuario es alfanumérica. La cadena debe cumplir con las siguientes condiciones para ser alfanumérica:\n",
    "\n",
    "•\tContener al menos un carácter (”” no es válido).\n",
    "\n",
    "•\tLos caracteres permitidos son letras latinas en mayúsculas/minúsculas y dígitos del 0 al 9.\n",
    "\n",
    "•\tNo debe contener espacios en blanco ni guiones bajos (_).\n",
    "\n",
    "```python\n",
    "print(alphanumeric(\"hello world_\")) # devuelve False\n",
    "print(alphanumeric(\"PassW0rd\")) # devuelve True\n",
    "print(alphanumeric(\"L0La\")) # devuelve True\n",
    "```"
   ]
  },
  {
   "cell_type": "code",
   "execution_count": null,
   "metadata": {},
   "outputs": [],
   "source": [
    "def alphanumeric(entrada):\n",
    "  suma_validos = 0\n",
    "  suma_invalidos = 0\n",
    "  caracteres = \"aAbBcCdDeEfFgGhHiIjJkKlLmMnNñÑoOpPqQrRsStTuUvVwWxXyYzZ0123456789\"\n",
    "  for letra in entrada:\n",
    "    if letra == \" \" or letra == \"_\":\n",
    "      suma_invalidos += 1\n",
    "    elif letra in caracteres:\n",
    "      suma_validos += 1\n",
    "\n",
    "  if suma_validos == 0 and suma_invalidos == 0:\n",
    "    return False\n",
    "  elif suma_invalidos > 0:\n",
    "    return False\n",
    "  else:\n",
    "    if suma_validos > 0:\n",
    "      return True\n",
    "\n",
    "print(alphanumeric(\"hello world\"))\n",
    "print(alphanumeric(\"PassWOrd\"))\n",
    "print(alphanumeric(\"LOLa\"))"
   ]
  }
 ],
 "metadata": {
  "kernelspec": {
   "display_name": "contenido",
   "language": "python",
   "name": "python3"
  },
  "language_info": {
   "codemirror_mode": {
    "name": "ipython",
    "version": 3
   },
   "file_extension": ".py",
   "mimetype": "text/x-python",
   "name": "python",
   "nbconvert_exporter": "python",
   "pygments_lexer": "ipython3",
   "version": "3.11.8"
  }
 },
 "nbformat": 4,
 "nbformat_minor": 2
}
